{
 "cells": [
  {
   "cell_type": "markdown",
   "metadata": {},
   "source": [
    "# Predicting Bike Rentals\n",
    "\n",
    "Bike sharing systems continue to pop up in a number of cities across the world as an alternative form of transportation. The popularity of these systems can be attributed to their ease of use and the important role they play in combating various issues, including climate change. It's estimated that over 500 bike sharing programs composed of over 5000 bikes are operating around the world today.\n",
    "\n",
    "One of the appeals of these systems from a data science perspective is the way they explicitly record the duration of travel, departure and arrival position of each bike. By analysing this data we can get an idea of the level of mobility in a city at a given time. \n",
    "\n",
    "Hadi Fanaee-T at the University of Porto realised the value of this data for machine learning and compiled bike sharing data for Washington, D.C., along with corresponding weather and seasonal information, into a CSV file. The data is publicly available on the [University of California, Irvine's website](http://archive.ics.uci.edu/ml/datasets/Bike+Sharing+Dataset).\n",
    "\n",
    "The aim of this project is to predict the total number of bikes people rented in a given hour under different environmental and seasonal conditions. To do this I'll create a few different machine learning models and evaluate their performance. Once a good model is identified, it can be used to forecast periods of increased mobility in the city. \n",
    "\n",
    "# Explore the Data"
   ]
  },
  {
   "cell_type": "code",
   "execution_count": 133,
   "metadata": {},
   "outputs": [
    {
     "data": {
      "text/html": [
       "<div>\n",
       "<style scoped>\n",
       "    .dataframe tbody tr th:only-of-type {\n",
       "        vertical-align: middle;\n",
       "    }\n",
       "\n",
       "    .dataframe tbody tr th {\n",
       "        vertical-align: top;\n",
       "    }\n",
       "\n",
       "    .dataframe thead th {\n",
       "        text-align: right;\n",
       "    }\n",
       "</style>\n",
       "<table border=\"1\" class=\"dataframe\">\n",
       "  <thead>\n",
       "    <tr style=\"text-align: right;\">\n",
       "      <th></th>\n",
       "      <th>instant</th>\n",
       "      <th>dteday</th>\n",
       "      <th>season</th>\n",
       "      <th>yr</th>\n",
       "      <th>mnth</th>\n",
       "      <th>hr</th>\n",
       "      <th>holiday</th>\n",
       "      <th>weekday</th>\n",
       "      <th>workingday</th>\n",
       "      <th>weathersit</th>\n",
       "      <th>temp</th>\n",
       "      <th>atemp</th>\n",
       "      <th>hum</th>\n",
       "      <th>windspeed</th>\n",
       "      <th>casual</th>\n",
       "      <th>registered</th>\n",
       "      <th>cnt</th>\n",
       "    </tr>\n",
       "  </thead>\n",
       "  <tbody>\n",
       "    <tr>\n",
       "      <td>0</td>\n",
       "      <td>1</td>\n",
       "      <td>2011-01-01</td>\n",
       "      <td>1</td>\n",
       "      <td>0</td>\n",
       "      <td>1</td>\n",
       "      <td>0</td>\n",
       "      <td>0</td>\n",
       "      <td>6</td>\n",
       "      <td>0</td>\n",
       "      <td>1</td>\n",
       "      <td>0.24</td>\n",
       "      <td>0.2879</td>\n",
       "      <td>0.81</td>\n",
       "      <td>0.0</td>\n",
       "      <td>3</td>\n",
       "      <td>13</td>\n",
       "      <td>16</td>\n",
       "    </tr>\n",
       "    <tr>\n",
       "      <td>1</td>\n",
       "      <td>2</td>\n",
       "      <td>2011-01-01</td>\n",
       "      <td>1</td>\n",
       "      <td>0</td>\n",
       "      <td>1</td>\n",
       "      <td>1</td>\n",
       "      <td>0</td>\n",
       "      <td>6</td>\n",
       "      <td>0</td>\n",
       "      <td>1</td>\n",
       "      <td>0.22</td>\n",
       "      <td>0.2727</td>\n",
       "      <td>0.80</td>\n",
       "      <td>0.0</td>\n",
       "      <td>8</td>\n",
       "      <td>32</td>\n",
       "      <td>40</td>\n",
       "    </tr>\n",
       "    <tr>\n",
       "      <td>2</td>\n",
       "      <td>3</td>\n",
       "      <td>2011-01-01</td>\n",
       "      <td>1</td>\n",
       "      <td>0</td>\n",
       "      <td>1</td>\n",
       "      <td>2</td>\n",
       "      <td>0</td>\n",
       "      <td>6</td>\n",
       "      <td>0</td>\n",
       "      <td>1</td>\n",
       "      <td>0.22</td>\n",
       "      <td>0.2727</td>\n",
       "      <td>0.80</td>\n",
       "      <td>0.0</td>\n",
       "      <td>5</td>\n",
       "      <td>27</td>\n",
       "      <td>32</td>\n",
       "    </tr>\n",
       "    <tr>\n",
       "      <td>3</td>\n",
       "      <td>4</td>\n",
       "      <td>2011-01-01</td>\n",
       "      <td>1</td>\n",
       "      <td>0</td>\n",
       "      <td>1</td>\n",
       "      <td>3</td>\n",
       "      <td>0</td>\n",
       "      <td>6</td>\n",
       "      <td>0</td>\n",
       "      <td>1</td>\n",
       "      <td>0.24</td>\n",
       "      <td>0.2879</td>\n",
       "      <td>0.75</td>\n",
       "      <td>0.0</td>\n",
       "      <td>3</td>\n",
       "      <td>10</td>\n",
       "      <td>13</td>\n",
       "    </tr>\n",
       "    <tr>\n",
       "      <td>4</td>\n",
       "      <td>5</td>\n",
       "      <td>2011-01-01</td>\n",
       "      <td>1</td>\n",
       "      <td>0</td>\n",
       "      <td>1</td>\n",
       "      <td>4</td>\n",
       "      <td>0</td>\n",
       "      <td>6</td>\n",
       "      <td>0</td>\n",
       "      <td>1</td>\n",
       "      <td>0.24</td>\n",
       "      <td>0.2879</td>\n",
       "      <td>0.75</td>\n",
       "      <td>0.0</td>\n",
       "      <td>0</td>\n",
       "      <td>1</td>\n",
       "      <td>1</td>\n",
       "    </tr>\n",
       "  </tbody>\n",
       "</table>\n",
       "</div>"
      ],
      "text/plain": [
       "   instant      dteday  season  yr  mnth  hr  holiday  weekday  workingday  \\\n",
       "0        1  2011-01-01       1   0     1   0        0        6           0   \n",
       "1        2  2011-01-01       1   0     1   1        0        6           0   \n",
       "2        3  2011-01-01       1   0     1   2        0        6           0   \n",
       "3        4  2011-01-01       1   0     1   3        0        6           0   \n",
       "4        5  2011-01-01       1   0     1   4        0        6           0   \n",
       "\n",
       "   weathersit  temp   atemp   hum  windspeed  casual  registered  cnt  \n",
       "0           1  0.24  0.2879  0.81        0.0       3          13   16  \n",
       "1           1  0.22  0.2727  0.80        0.0       8          32   40  \n",
       "2           1  0.22  0.2727  0.80        0.0       5          27   32  \n",
       "3           1  0.24  0.2879  0.75        0.0       3          10   13  \n",
       "4           1  0.24  0.2879  0.75        0.0       0           1    1  "
      ]
     },
     "execution_count": 133,
     "metadata": {},
     "output_type": "execute_result"
    }
   ],
   "source": [
    "import pandas as pd\n",
    "import numpy as np\n",
    "import matplotlib.pyplot as plt\n",
    "import seaborn as sns\n",
    "# Read CSV\n",
    "hour = pd.read_csv(\"/Users/katestone/Desktop/CSV files/hour.csv\")\n",
    "hour.head()"
   ]
  },
  {
   "cell_type": "code",
   "execution_count": 115,
   "metadata": {},
   "outputs": [
    {
     "data": {
      "text/plain": [
       "(17379, 17)"
      ]
     },
     "execution_count": 115,
     "metadata": {},
     "output_type": "execute_result"
    }
   ],
   "source": [
    "hour.shape"
   ]
  },
  {
   "cell_type": "code",
   "execution_count": 104,
   "metadata": {},
   "outputs": [
    {
     "name": "stdout",
     "output_type": "stream",
     "text": [
      "<class 'pandas.core.frame.DataFrame'>\n",
      "RangeIndex: 17379 entries, 0 to 17378\n",
      "Data columns (total 17 columns):\n",
      "instant       17379 non-null int64\n",
      "dteday        17379 non-null object\n",
      "season        17379 non-null int64\n",
      "yr            17379 non-null int64\n",
      "mnth          17379 non-null int64\n",
      "hr            17379 non-null int64\n",
      "holiday       17379 non-null int64\n",
      "weekday       17379 non-null int64\n",
      "workingday    17379 non-null int64\n",
      "weathersit    17379 non-null int64\n",
      "temp          17379 non-null float64\n",
      "atemp         17379 non-null float64\n",
      "hum           17379 non-null float64\n",
      "windspeed     17379 non-null float64\n",
      "casual        17379 non-null int64\n",
      "registered    17379 non-null int64\n",
      "cnt           17379 non-null int64\n",
      "dtypes: float64(4), int64(12), object(1)\n",
      "memory usage: 2.3+ MB\n"
     ]
    }
   ],
   "source": [
    "hour.info()"
   ]
  },
  {
   "cell_type": "markdown",
   "metadata": {},
   "source": [
    "The data is comprised of 17379 rows, with each row representing the number of bike rentals for a single hour of a single day. Columns include:\n",
    "\n",
    "- instant: A unique sequential ID number for each row;\n",
    "- dteday: The date of the rentals;\n",
    "- season: The season in which the rentals occurred;\n",
    "- yr: The year the rentals occurred;\n",
    "- mnth: The month the rentals occurred;\n",
    "- hr: The hour the rentals occurred;\n",
    "- holiday: Whether or not the day was a holiday;\n",
    "- weekday: The day of the week (as a number, 0 to 7);\n",
    "- workingday: Whether or not the day was a working day;\n",
    "- weathersit: The weather (as a categorical variable);\n",
    "- temp: The temperature, on a 0-1 scale;\n",
    "- atemp: The adjusted temperature;\n",
    "- hum: The humidity, on a 0-1 scale;\n",
    "- windspeed: The wind speed, on a 0-1 scale;\n",
    "- casual: The number of casual riders (people who hadn't previously signed up with the bike sharing program);\n",
    "- registered: The number of registered riders (people who had already signed up);\n",
    "- cnt: The total number of bike rentals (casual + registered).\n",
    "\n",
    "For this project I'll try to  predict the cnt column using all of the other columns except casual and registered.\n",
    "\n",
    "# Distribution of Rentals"
   ]
  },
  {
   "cell_type": "code",
   "execution_count": 116,
   "metadata": {},
   "outputs": [
    {
     "data": {
      "image/png": "[encoded data removed]",
      "text/plain": [
       "<Figure size 576x576 with 1 Axes>"
      ]
     },
     "metadata": {
      "needs_background": "light"
     },
     "output_type": "display_data"
    }
   ],
   "source": [
    "# Plot distribution of cnt column\n",
    "plt.figure(figsize=(8,8))\n",
    "sns.distplot(hour[\"cnt\"])\n",
    "plt.title(\"Distribution of Rentals per Hour\")\n",
    "plt.xlabel(\"Rentals by Hour\")\n",
    "plt.show()"
   ]
  },
  {
   "cell_type": "markdown",
   "metadata": {},
   "source": [
    "The distribution of hourly rentals is skewed heavily towards the right. For most hours, rentals were between 0 and 200. \n",
    "\n",
    "# Check for Correlation with Rentals"
   ]
  },
  {
   "cell_type": "code",
   "execution_count": 117,
   "metadata": {},
   "outputs": [
    {
     "data": {
      "text/plain": [
       "cnt           1.000000\n",
       "registered    0.972151\n",
       "casual        0.694564\n",
       "temp          0.404772\n",
       "atemp         0.400929\n",
       "hr            0.394071\n",
       "hum           0.322911\n",
       "instant       0.278379\n",
       "yr            0.250495\n",
       "season        0.178056\n",
       "weathersit    0.142426\n",
       "mnth          0.120638\n",
       "windspeed     0.093234\n",
       "holiday       0.030927\n",
       "workingday    0.030284\n",
       "weekday       0.026900\n",
       "Name: cnt, dtype: float64"
      ]
     },
     "execution_count": 117,
     "metadata": {},
     "output_type": "execute_result"
    }
   ],
   "source": [
    "# Get an idea of which variables have strong correlation with cnt\n",
    "corrmat = hour.corr()\n",
    "sorted_corrs = corrmat['cnt'].abs().sort_values(ascending=False)\n",
    "sorted_corrs"
   ]
  },
  {
   "cell_type": "code",
   "execution_count": 118,
   "metadata": {},
   "outputs": [
    {
     "data": {
      "image/png": "[encoded data removed]",
      "text/plain": [
       "<Figure size 576x576 with 2 Axes>"
      ]
     },
     "metadata": {
      "needs_background": "light"
     },
     "output_type": "display_data"
    }
   ],
   "source": [
    "plt.figure(figsize=(8,8))\n",
    "sns.heatmap(corrmat)\n",
    "plt.title(\"Correlation Heat Map\")\n",
    "plt.show()"
   ]
  },
  {
   "cell_type": "markdown",
   "metadata": {},
   "source": [
    "Temp, atemp, hr and hum have the strongest correlation with cnt (of the columns of interest). Looking at the heat map we can see that temp and atemp are highly correlated. Only one of these features will be included to avoid problems with collinearity.\n",
    "\n",
    "# Calculate Time Label\n",
    "\n",
    "It might be helpful to distill the unique values in the hr column into four chunks: morning, afternoon, evening and night. Grouping related hours together will likely result in the model making better decisions."
   ]
  },
  {
   "cell_type": "code",
   "execution_count": 135,
   "metadata": {},
   "outputs": [
    {
     "data": {
      "text/html": [
       "<div>\n",
       "<style scoped>\n",
       "    .dataframe tbody tr th:only-of-type {\n",
       "        vertical-align: middle;\n",
       "    }\n",
       "\n",
       "    .dataframe tbody tr th {\n",
       "        vertical-align: top;\n",
       "    }\n",
       "\n",
       "    .dataframe thead th {\n",
       "        text-align: right;\n",
       "    }\n",
       "</style>\n",
       "<table border=\"1\" class=\"dataframe\">\n",
       "  <thead>\n",
       "    <tr style=\"text-align: right;\">\n",
       "      <th></th>\n",
       "      <th>hr</th>\n",
       "      <th>time_label</th>\n",
       "    </tr>\n",
       "  </thead>\n",
       "  <tbody>\n",
       "    <tr>\n",
       "      <td>0</td>\n",
       "      <td>0</td>\n",
       "      <td>4</td>\n",
       "    </tr>\n",
       "    <tr>\n",
       "      <td>1</td>\n",
       "      <td>1</td>\n",
       "      <td>4</td>\n",
       "    </tr>\n",
       "    <tr>\n",
       "      <td>2</td>\n",
       "      <td>2</td>\n",
       "      <td>4</td>\n",
       "    </tr>\n",
       "    <tr>\n",
       "      <td>3</td>\n",
       "      <td>3</td>\n",
       "      <td>4</td>\n",
       "    </tr>\n",
       "    <tr>\n",
       "      <td>4</td>\n",
       "      <td>4</td>\n",
       "      <td>4</td>\n",
       "    </tr>\n",
       "    <tr>\n",
       "      <td>5</td>\n",
       "      <td>5</td>\n",
       "      <td>4</td>\n",
       "    </tr>\n",
       "    <tr>\n",
       "      <td>6</td>\n",
       "      <td>6</td>\n",
       "      <td>1</td>\n",
       "    </tr>\n",
       "    <tr>\n",
       "      <td>7</td>\n",
       "      <td>7</td>\n",
       "      <td>1</td>\n",
       "    </tr>\n",
       "    <tr>\n",
       "      <td>8</td>\n",
       "      <td>8</td>\n",
       "      <td>1</td>\n",
       "    </tr>\n",
       "    <tr>\n",
       "      <td>9</td>\n",
       "      <td>9</td>\n",
       "      <td>1</td>\n",
       "    </tr>\n",
       "  </tbody>\n",
       "</table>\n",
       "</div>"
      ],
      "text/plain": [
       "   hr  time_label\n",
       "0   0           4\n",
       "1   1           4\n",
       "2   2           4\n",
       "3   3           4\n",
       "4   4           4\n",
       "5   5           4\n",
       "6   6           1\n",
       "7   7           1\n",
       "8   8           1\n",
       "9   9           1"
      ]
     },
     "execution_count": 135,
     "metadata": {},
     "output_type": "execute_result"
    }
   ],
   "source": [
    "# Write function to group hour values into four chunks\n",
    "def assign_label(x):\n",
    "    if 6 <= x < 12:\n",
    "        return 1\n",
    "    elif 12 <= x < 18:\n",
    "        return 2\n",
    "    elif 18 <= x < 24:\n",
    "        return 3\n",
    "    else:\n",
    "        return 4\n",
    "    \n",
    "# apply to hour column\n",
    "hour[\"time_label\"] = hour[\"hr\"].apply(assign_label)\n",
    "\n",
    "# Check\n",
    "hour[[\"hr\", \"time_label\"]].head(10)"
   ]
  },
  {
   "cell_type": "markdown",
   "metadata": {},
   "source": [
    "# Linear Regression Model\n",
    "\n",
    "Now that the data has been explored and manipulated we can begin applying linear regression. Linear regression will probably work fairly well on this data, given that many of the columns are correlated with cnt. \n",
    "\n",
    "Linear regression works best when predictors are linearly correlated to the target and also independent. Due to this, the casual and registered columns will be ignored as cnt is derived from them. Only one of the temperature variables will be used due to collinearity. dteday and instant will also be excluded for data leakage reasons.\n",
    "\n",
    "To evaluate the performance of the machine learning models we'll use the mean squared error metric. MSE works on continuous numeric data, which is the case for data in the cnt column."
   ]
  },
  {
   "cell_type": "code",
   "execution_count": 136,
   "metadata": {},
   "outputs": [
    {
     "name": "stdout",
     "output_type": "stream",
     "text": [
      "MSE for Linear Regression Model = 16448.02353942939\n"
     ]
    }
   ],
   "source": [
    "# Split the data into train and test\n",
    "train = hour.sample(frac=.8)\n",
    "test = hour.loc[~hour.index.isin(train.index)]\n",
    "\n",
    "# Select predictor columns\n",
    "predictors = hour.columns.drop([\"instant\", \"atemp\", \"casual\", \"registered\", \"cnt\", 'dteday'])\n",
    "\n",
    "# Train lin reg model\n",
    "from sklearn.linear_model import LinearRegression\n",
    "from sklearn.metrics import mean_squared_error\n",
    "lr = LinearRegression()\n",
    "lr.fit(train[predictors], train['cnt'])\n",
    "\n",
    "# Make predictions\n",
    "predictions = lr.predict(test[predictors])\n",
    "mse_lr = mean_squared_error(test[\"cnt\"], predictions)\n",
    "print(\"MSE for Linear Regression Model = {}\".format(mse_lr))"
   ]
  },
  {
   "cell_type": "markdown",
   "metadata": {},
   "source": [
    "The error value for the linear regression model is fairly high. This is likely due to the presence of large outliers in the rental counts. Larger errors are penalised more with MSE, which leads to a higher total error.\n",
    "\n",
    "# Decision Tree Model\n",
    "\n",
    "We'll now make predictions using the decision tree model. The benefit of this model over the linear regression model is that it can pick up non-linear interactions between variables that linear regression cannot. The drawback is its propensity to overfit on account of its complexity. "
   ]
  },
  {
   "cell_type": "code",
   "execution_count": 137,
   "metadata": {},
   "outputs": [
    {
     "name": "stdout",
     "output_type": "stream",
     "text": [
      "MSE for Decision Tree Model = 3325.3956415420025\n"
     ]
    }
   ],
   "source": [
    "# Train decision tree model\n",
    "from sklearn.tree import DecisionTreeRegressor\n",
    "tree = DecisionTreeRegressor()\n",
    "tree.fit(train[predictors], train['cnt'])\n",
    "\n",
    "# Make predictions\n",
    "predictions_2 = tree.predict(test[predictors])\n",
    "mse_tr = mean_squared_error(test[\"cnt\"], predictions_2)\n",
    "print(\"MSE for Decision Tree Model = {}\".format(mse_tr))"
   ]
  },
  {
   "cell_type": "markdown",
   "metadata": {},
   "source": [
    "Using the decision tree model over the linear regression model vastly reduces the error. However we need to check whether or not the model is overfitting. To do this we'll make predictions on the training data and compare with the predictions made on the test data. If the error for training predictions if much lower, this is a sign of overfitting. "
   ]
  },
  {
   "cell_type": "code",
   "execution_count": 138,
   "metadata": {},
   "outputs": [
    {
     "name": "stdout",
     "output_type": "stream",
     "text": [
      "Train MSE for Decision Tree Model = 0.26893476228152197\n"
     ]
    }
   ],
   "source": [
    "# Make predictions on training data\n",
    "predictions_3 = tree.predict(train[predictors])\n",
    "mse_tr_2 = mean_squared_error(train[\"cnt\"], predictions_3)\n",
    "print(\"Train MSE for Decision Tree Model = {}\".format(mse_tr_2))"
   ]
  },
  {
   "cell_type": "markdown",
   "metadata": {},
   "source": [
    "As suspected, the decision tree model is overfitting the data. To combat this lets adjust some of the parameters to reduce the compexity of the model. "
   ]
  },
  {
   "cell_type": "code",
   "execution_count": 139,
   "metadata": {},
   "outputs": [
    {
     "name": "stdout",
     "output_type": "stream",
     "text": [
      "MSE for Decision Tree Model 2 = 2751.39618971311\n",
      "Train MSE for Decision Tree Model 2 = 1913.0120595988494\n"
     ]
    }
   ],
   "source": [
    "# Train decision tree model\n",
    "tree_2 = DecisionTreeRegressor(min_samples_leaf=10)\n",
    "tree_2.fit(train[predictors], train['cnt'])\n",
    "\n",
    "# Make predictions\n",
    "predictions_4 = tree_2.predict(test[predictors])\n",
    "mse_tr_2 = mean_squared_error(test[\"cnt\"], predictions_4)\n",
    "print(\"MSE for Decision Tree Model 2 = {}\".format(mse_tr_2))\n",
    "\n",
    "# Make predictions on training data\n",
    "predictions_5 = tree_2.predict(train[predictors])\n",
    "mse_train_2 = mean_squared_error(train[\"cnt\"], predictions_5)\n",
    "print(\"Train MSE for Decision Tree Model 2 = {}\".format(mse_train_2))"
   ]
  },
  {
   "cell_type": "markdown",
   "metadata": {},
   "source": [
    "Just adding the min_samples_leaf parameter greatly reduced the level of overfitting and improved the accuracy of the predictions on the test data. \n",
    "\n",
    "# Random Forest Model\n",
    "\n",
    "To improve the predictions even further we'll implement the random forest algorithm. Random forests tend to be much more accurate than simple models like linear regression. Due to the way random forests are constructed, they tend to overfit much less than decision trees. "
   ]
  },
  {
   "cell_type": "code",
   "execution_count": 140,
   "metadata": {},
   "outputs": [
    {
     "name": "stdout",
     "output_type": "stream",
     "text": [
      "MSE for Random Forest Model = 2324.4388146125616\n",
      "Train MSE for Random Forest Model = 1890.381855781096\n"
     ]
    }
   ],
   "source": [
    "# Train decision tree model\n",
    "from sklearn.ensemble import RandomForestRegressor\n",
    "forest = RandomForestRegressor(min_samples_leaf=10, n_estimators=20)\n",
    "forest.fit(train[predictors], train['cnt'])\n",
    "\n",
    "# Make predictions\n",
    "predictions_6 = forest.predict(test[predictors])\n",
    "mse_forest = mean_squared_error(test[\"cnt\"], predictions_6)\n",
    "print(\"MSE for Random Forest Model = {}\".format(mse_forest))\n",
    "\n",
    "# Make predictions on training data\n",
    "predictions_7 = forest.predict(train[predictors])\n",
    "mse_train_forest = mean_squared_error(train[\"cnt\"], predictions_7)\n",
    "print(\"Train MSE for Random Forest Model = {}\".format(mse_train_forest))"
   ]
  },
  {
   "cell_type": "markdown",
   "metadata": {},
   "source": [
    "Employing the random forest model reduced both the error and the level of overfitting even further. Now we have a model that can predict cnt with a resonable level of confidence.\n",
    "\n",
    "# Next Steps\n",
    "\n",
    "To increase the accuracy further we could implement the following steps:\n",
    "- Calculate additional features, such as:\n",
    "    - An index combining temperature, humidity, and wind speed;\n",
    "- Experiment with different parameter values. "
   ]
  }
 ],
 "metadata": {
  "kernelspec": {
   "display_name": "Python 3",
   "language": "python",
   "name": "python3"
  },
  "language_info": {
   "codemirror_mode": {
    "name": "ipython",
    "version": 3
   },
   "file_extension": ".py",
   "mimetype": "text/x-python",
   "name": "python",
   "nbconvert_exporter": "python",
   "pygments_lexer": "ipython3",
   "version": "3.7.4"
  }
 },
 "nbformat": 4,
 "nbformat_minor": 2
}
